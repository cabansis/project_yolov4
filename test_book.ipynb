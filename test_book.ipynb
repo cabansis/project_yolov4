{
 "metadata": {
  "language_info": {
   "codemirror_mode": {
    "name": "ipython",
    "version": 3
   },
   "file_extension": ".py",
   "mimetype": "text/x-python",
   "name": "python",
   "nbconvert_exporter": "python",
   "pygments_lexer": "ipython3",
   "version": "3.8.3-final"
  },
  "orig_nbformat": 2,
  "kernelspec": {
   "name": "python38564bitpytorch16conda13d71c4b61b54836aed5f669080cbe2b",
   "display_name": "Python 3.8.5 64-bit ('pytorch1.6': conda)"
  }
 },
 "nbformat": 4,
 "nbformat_minor": 2,
 "cells": [
  {
   "cell_type": "code",
   "execution_count": 4,
   "metadata": {},
   "outputs": [
    {
     "output_type": "stream",
     "name": "stdout",
     "text": [
      "2.0\n"
     ]
    }
   ],
   "source": [
    "import numpy as np \n",
    "\n",
    "a = np.array([1,2,3]).astype(np.float32)\n",
    "a = np.mean(a)\n",
    "print(a)"
   ]
  },
  {
   "cell_type": "code",
   "execution_count": 7,
   "metadata": {},
   "outputs": [
    {
     "output_type": "stream",
     "name": "stdout",
     "text": [
      "[2 3] [4 6]\n"
     ]
    }
   ],
   "source": [
    "def c_list(list):\n",
    "    nlist = list.copy()\n",
    "    nlist *= 2\n",
    "    return nlist \n",
    "\n",
    "list = [2,3]\n",
    "list = np.array(list)\n",
    "clist = c_list(list)\n",
    "print(list, clist)"
   ]
  },
  {
   "cell_type": "code",
   "execution_count": 2,
   "metadata": {},
   "outputs": [
    {
     "output_type": "stream",
     "name": "stdout",
     "text": [
      "loading annotations into memory...\n",
      "Done (t=1.12s)\n",
      "creating index...\n",
      "index created!\n"
     ]
    }
   ],
   "source": [
    "from pycocotools.coco import COCO\n",
    "\n",
    "coco = COCO('/home/baodi/data/cocodataset/annotations/instances_val2017.json')"
   ]
  },
  {
   "cell_type": "code",
   "execution_count": 18,
   "metadata": {},
   "outputs": [
    {
     "output_type": "stream",
     "name": "stdout",
     "text": [
      "'toilet'\n"
     ]
    }
   ],
   "source": [
    "from pprint import pprint\n",
    "\n",
    "imgids = coco.getImgIds()\n",
    "imgid = imgids[5]\n",
    "# print(imgid)\n",
    "annids = coco.getAnnIds(imgIds=imgid)\n",
    "anns = coco.loadAnns(annids)[0]\n",
    "catid = anns['category_id']\n",
    "cat_name = coco.loadCats(catid)\n",
    "pprint(cat_name[0]['name'])"
   ]
  },
  {
   "cell_type": "code",
   "execution_count": 20,
   "metadata": {},
   "outputs": [
    {
     "output_type": "stream",
     "name": "stdout",
     "text": [
      "[1, 4]\n"
     ]
    }
   ],
   "source": [
    "a = [1,2,3,4,5]\n",
    "b = [0, 3]\n",
    "c = [a[i] for i in b]\n",
    "print(c)"
   ]
  },
  {
   "cell_type": "code",
   "execution_count": 8,
   "metadata": {},
   "outputs": [
    {
     "output_type": "stream",
     "name": "stdout",
     "text": [
      "tensor([5, 2, 3])\ntensor([1, 2, 3])\n"
     ]
    }
   ],
   "source": [
    "import torch \n",
    "from pprint import pprint\n",
    "\n",
    "a = torch.tensor([1,2,3])\n",
    "b = a.clone()\n",
    "a[0] = 5\n",
    "pprint(a)\n",
    "pprint(b)"
   ]
  },
  {
   "cell_type": "code",
   "execution_count": 31,
   "metadata": {},
   "outputs": [
    {
     "output_type": "stream",
     "name": "stdout",
     "text": [
      "tensor([[4., 4., 1., 0.],\n        [4., 8., 9., 0.]])\ntensor([[ 4.,  8., 12.,  5.],\n        [16., 16., 16., 17.]])\ntensor([[1.0000, 0.5000, 0.0833, 0.0000],\n        [0.2500, 0.5000, 0.5625, 0.0000]])\n"
     ]
    }
   ],
   "source": [
    "b1 = torch.tensor([[0,0,2,2], [0,0,4,4]]).to(torch.float)\n",
    "b2 = torch.tensor([[0,0,2,2], [0,0,2,4], [1,1,4,4],[4,5,5,6]]).to(torch.float)\n",
    "\n",
    "b1 = b1.view(b1.shape[0], 1, b1.shape[1])\n",
    "\n",
    "# inter_boxes = torch.zeros((b1.shape[0], b2.shape[0]))\n",
    "left = torch.max(b1[..., 0], b2[..., 0]).unsqueeze(2)\n",
    "top = torch.max(b1[..., 1], b2[..., 1]).unsqueeze(2)\n",
    "right = torch.min(b1[..., 2], b2[..., 2]).unsqueeze(2)\n",
    "bottom = torch.min(b1[..., 3], b2[..., 3]).unsqueeze(2)\n",
    "inter_boxes = torch.cat((left, top, right, bottom), dim=2)\n",
    "\n",
    "inter_areas = (inter_boxes[..., 2] - inter_boxes[..., 0]).clamp(min=0) * (inter_boxes[..., 3] - inter_boxes[..., 1]).clamp(min=0)\n",
    "# inter_areas = inter_areas.clamp(min=0)\n",
    "\n",
    "b1_area = (b1[..., 2] - b1[..., 0]) * (b1[..., 3] - b1[..., 1])\n",
    "b2_area = (b2[..., 2] - b2[..., 0]) * (b2[..., 3] - b2[..., 1])\n",
    "union_areas = b1_area + b2_area - inter_areas\n",
    "\n",
    "ious = inter_areas / union_areas\n",
    "pprint(inter_areas)\n",
    "pprint(union_areas)\n",
    "pprint(ious)\n",
    "\n",
    "# pprint(inter_boxes[1, 3, :])"
   ]
  },
  {
   "cell_type": "code",
   "execution_count": 42,
   "metadata": {},
   "outputs": [
    {
     "output_type": "stream",
     "name": "stdout",
     "text": [
      "tensor([[2, 3],\n        [4, 2],\n        [5, 6]])\ntorch.Size([1, 2])\ntorch.Size([1, 2])\n"
     ]
    }
   ],
   "source": [
    "a = torch.tensor(([4,2],[5,6],[2,3]))\n",
    "\n",
    "_, ind = a[:, 0].sort(dim=0)\n",
    "# torch.sort(descending=)\n",
    "pprint(a[ind])\n",
    "pprint(a[2:, :].shape)\n",
    "pprint(a[:1, :].shape)"
   ]
  },
  {
   "cell_type": "code",
   "execution_count": 57,
   "metadata": {},
   "outputs": [
    {
     "output_type": "stream",
     "name": "stdout",
     "text": [
      "0\ntensor([1.2000, 2.2000, 3.4000, 4.5000])\ntensor([1., 2., 3., 4.])\n"
     ]
    }
   ],
   "source": [
    "a = torch.tensor(5.65)\n",
    "b = torch.tensor(4.82)\n",
    "c = int(a-b)\n",
    "print(c)\n",
    "d = torch.tensor([1.2, 2.2, 3.4, 4.5])\n",
    "e = torch.floor(d)\n",
    "print(d)\n",
    "print(e)"
   ]
  },
  {
   "cell_type": "code",
   "execution_count": null,
   "metadata": {},
   "outputs": [],
   "source": []
  }
 ]
}