{
 "metadata": {
  "language_info": {
   "codemirror_mode": {
    "name": "ipython",
    "version": 3
   },
   "file_extension": ".py",
   "mimetype": "text/x-python",
   "name": "python",
   "nbconvert_exporter": "python",
   "pygments_lexer": "ipython3",
   "version": "3.8.3-final"
  },
  "orig_nbformat": 2,
  "kernelspec": {
   "name": "python38364bitpytorch16condad8e90596837f447a8d7f98d2c8556431",
   "display_name": "Python 3.8.3 64-bit ('pytorch1.6': conda)"
  }
 },
 "nbformat": 4,
 "nbformat_minor": 2,
 "cells": [
  {
   "cell_type": "code",
   "execution_count": 67,
   "metadata": {},
   "outputs": [],
   "source": [
    "import torch \n",
    "import torch.nn as nn \n",
    "import torch.optim as optim \n",
    "\n",
    "class Model(nn.Module):\n",
    "    def __init__(self, input_size, output_size):\n",
    "        super(Model, self).__init__()\n",
    "        self.input_size = input_size\n",
    "        self.output_size = output_size\n",
    "        self.fc = nn.Linear(in_features=input_size, out_features=output_size)\n",
    "        self.relu = nn.ReLU()\n",
    "\n",
    "    def forward(self, x):\n",
    "        x = self.fc(x)\n",
    "        x = self.relu(x)\n",
    "\n"
   ]
  },
  {
   "cell_type": "code",
   "execution_count": 68,
   "metadata": {},
   "outputs": [],
   "source": [
    "input_size = 50\n",
    "output_size = 5\n",
    "def burnin_scheduler(epoch):\n",
    "    if epoch < 10:\n",
    "        return 1\n",
    "    elif epoch < 20:\n",
    "        return 0.5\n",
    "    else:\n",
    "        return 0.1\n",
    "    \n",
    "\n",
    "model = Model(input_size, output_size)\n",
    "optimizer = optim.SGD(params=model.parameters(), lr=0.01)\n",
    "scheduler = optim.lr_scheduler.LambdaLR(optimizer, burnin_scheduler, last_epoch=-1)"
   ]
  },
  {
   "cell_type": "code",
   "execution_count": 69,
   "metadata": {},
   "outputs": [
    {
     "output_type": "stream",
     "name": "stdout",
     "text": [
      "epoch: 0 :  0.01\nepoch: 1 :  0.01\nepoch: 2 :  0.01\nepoch: 3 :  0.01\nepoch: 4 :  0.01\nepoch: 5 :  0.01\nepoch: 6 :  0.01\nepoch: 7 :  0.01\nepoch: 8 :  0.01\nepoch: 9 :  0.01\nepoch: 10 :  0.005\nepoch: 11 :  0.005\nepoch: 12 :  0.005\nepoch: 13 :  0.005\nepoch: 14 :  0.005\nepoch: 15 :  0.005\nepoch: 16 :  0.005\nepoch: 17 :  0.005\nepoch: 18 :  0.005\nepoch: 19 :  0.005\nepoch: 20 :  0.001\nepoch: 21 :  0.001\nepoch: 22 :  0.001\nepoch: 23 :  0.001\nepoch: 24 :  0.001\nepoch: 25 :  0.001\nepoch: 26 :  0.001\nepoch: 27 :  0.001\nepoch: 28 :  0.001\nepoch: 29 :  0.001\n"
     ]
    }
   ],
   "source": [
    "epoches = 30\n",
    "\n",
    "for e in range(epoches):\n",
    "    # print(scheduler.get_lr())\n",
    "    print(\"epoch: %d : \" % e, optimizer.param_groups[0]['lr'])\n",
    "    scheduler.step()\n",
    "    optimizer.step()"
   ]
  },
  {
   "cell_type": "code",
   "execution_count": 72,
   "metadata": {},
   "outputs": [
    {
     "output_type": "execute_result",
     "data": {
      "text/plain": [
       "'1.6.0'"
      ]
     },
     "metadata": {},
     "execution_count": 72
    }
   ],
   "source": [
    "torch.__version__"
   ]
  },
  {
   "cell_type": "code",
   "execution_count": 6,
   "metadata": {},
   "outputs": [
    {
     "output_type": "stream",
     "name": "stdout",
     "text": [
      "[ 1  3  5  7  9 11 13 15 17 19 21 23 25 27 29 31 33 35 37 39 41 43 45 47\n 49]\n"
     ]
    }
   ],
   "source": [
    "import numpy as np \n",
    "\n",
    "a = [i for i in range(100)]\n",
    "a = np.array(a)\n",
    "a_2 = a[1:50:2]\n",
    "print(a_2)"
   ]
  },
  {
   "cell_type": "code",
   "execution_count": 2,
   "metadata": {},
   "outputs": [
    {
     "output_type": "stream",
     "name": "stdout",
     "text": [
      "[[[ 1.51203448  1.46000085 -2.30476504]\n  [ 1.30120436 -1.40447534  1.10973464]\n  [-0.50198817 -0.87963181  0.88677353]]]\n"
     ]
    }
   ],
   "source": [
    "import numpy as np \n",
    "\n",
    "filter = np.random.randn(1, 3, 3)\n",
    "print(filter)"
   ]
  },
  {
   "cell_type": "code",
   "execution_count": 2,
   "metadata": {},
   "outputs": [
    {
     "output_type": "stream",
     "name": "stdout",
     "text": [
      "tensor([3, 5, 7, 9]) tensor([ 2,  6,  5, 10])\ntensor([2, 5])\n"
     ]
    }
   ],
   "source": [
    "import numpy as np \n",
    "import torch \n",
    "\n",
    "a = np.array([3,5,7,9])\n",
    "b = np.array([2,6,5,10])\n",
    "\n",
    "a = torch.from_numpy(a)\n",
    "b = torch.from_numpy(b)\n",
    "\n",
    "print(a, b)\n",
    "c = torch.min(a[:2], b[:2])\n",
    "print(c)"
   ]
  },
  {
   "cell_type": "code",
   "execution_count": 47,
   "metadata": {},
   "outputs": [
    {
     "output_type": "stream",
     "name": "stdout",
     "text": [
      "[[0 0 0 0 0 0 0 0 0 0]\n [1 1 1 1 1 1 1 1 1 1]\n [2 2 2 2 2 2 2 2 2 2]\n [3 3 3 3 3 3 3 3 3 3]\n [4 4 4 4 4 4 4 4 4 4]\n [5 5 5 5 5 5 5 5 5 5]\n [6 6 6 6 6 6 6 6 6 6]\n [7 7 7 7 7 7 7 7 7 7]\n [8 8 8 8 8 8 8 8 8 8]\n [9 9 9 9 9 9 9 9 9 9]]\n[0 0 0 1 1 1 2 2 2 3 3 3 4 4 4 5 5 5 6 6 6 7 7 7 8 8 8 9 9 9 0 0 0 1 1 1 2\n 2 2 3 3 3 4 4 4 5 5 5 6 6 6 7 7 7 8 8 8 9 9 9 0 0 0 1 1 1 2 2 2 3 3 3 4 4\n 4 5 5 5 6 6 6 7 7 7 8 8 8 9 9 9 0 0 0 1 1 1 2 2 2 3 3 3 4 4 4 5 5 5 6 6 6\n 7 7 7 8 8 8 9 9 9 0 0 0 1 1 1 2 2 2 3 3 3 4 4 4 5 5 5 6 6 6 7 7 7 8 8 8 9\n 9 9 0 0 0 1 1 1 2 2 2 3 3 3 4 4 4 5 5 5 6 6 6 7 7 7 8 8 8 9 9 9 0 0 0 1 1\n 1 2 2 2 3 3 3 4 4 4 5 5 5 6 6 6 7 7 7 8 8 8 9 9 9 0 0 0 1 1 1 2 2 2 3 3 3\n 4 4 4 5 5 5 6 6 6 7 7 7 8 8 8 9 9 9 0 0 0 1 1 1 2 2 2 3 3 3 4 4 4 5 5 5 6\n 6 6 7 7 7 8 8 8 9 9 9 0 0 0 1 1 1 2 2 2 3 3 3 4 4 4 5 5 5 6 6 6 7 7 7 8 8\n 8 9 9 9]\n"
     ]
    }
   ],
   "source": [
    "a = np.array(range(10))\n",
    "b = np.array(range(10))\n",
    "\n",
    "x, y = np.meshgrid(a, b)\n",
    "# print(x)\n",
    "print(y)\n",
    "x = np.repeat(x[:, :, np.newaxis], 3, axis=2).flatten()\n",
    "print(x)"
   ]
  },
  {
   "cell_type": "code",
   "execution_count": 64,
   "metadata": {},
   "outputs": [
    {
     "output_type": "stream",
     "name": "stdout",
     "text": [
      "[[0 2 1 3]\n [2 3 1 5]\n [3 2 0 1]]\n2\nx shape is not the same as x_pad\n"
     ]
    }
   ],
   "source": [
    "x = np.array([[0,2,1,3], [2,3,1,5], [3,2,0,1]])\n",
    "# x_max = np.max(x[:2, :2])\n",
    "print(x)\n",
    "x_pad = np.pad(x, ((2,3),(0,0)), 'constant', constant_values=0)\n",
    "print(len(x_pad.shape))\n",
    "try:\n",
    "    assert(x.shape == x_pad.shape)\n",
    "except AssertionError:\n",
    "    print(\"x shape is not the same as x_pad\")"
   ]
  },
  {
   "cell_type": "code",
   "execution_count": 51,
   "metadata": {},
   "outputs": [
    {
     "output_type": "stream",
     "name": "stdout",
     "text": [
      "torch.Size([1, 1, 2, 2])\n"
     ]
    }
   ],
   "source": [
    "m = nn.MaxPool2d(2, stride=2)\n",
    "x = torch.randn(1, 1, 4, 4)\n",
    "re = m(x)\n",
    "print(re.shape)"
   ]
  },
  {
   "cell_type": "code",
   "execution_count": 8,
   "metadata": {},
   "outputs": [
    {
     "output_type": "stream",
     "name": "stdout",
     "text": [
      "tensor(0.6595)\ntensor(0.6595)\ntensor(0.6595)\n"
     ]
    }
   ],
   "source": [
    "import torch.nn as nn \n",
    "x = torch.tensor([1.2, 0.5, -0.9], dtype=torch.float)\n",
    "y = torch.tensor([0, 1, 1], dtype=torch.float)\n",
    "\n",
    "bce = nn.BCELoss()\n",
    "bcelog = nn.BCEWithLogitsLoss()\n",
    "\n",
    "loss_1 = bce(nn.Sigmoid()(x), y)\n",
    "loss_2 = bcelog(x, y)\n",
    "\n",
    "print(loss_1)\n",
    "print(loss_2)\n",
    "\n",
    "sig = nn.Sigmoid()(x)\n",
    "\n",
    "log = -torch.log(sig)\n",
    "log = torch.mean(log)\n",
    "print(log)\n",
    "\n"
   ]
  },
  {
   "cell_type": "code",
   "execution_count": 9,
   "metadata": {},
   "outputs": [],
   "source": [
    "class Focus(nn.Module):\n",
    "    \n",
    "    def __init__(self, c1, c2, k=1):\n",
    "        super(Focus, self).__init__()\n",
    "        self.conv = nn.Conv2d(c1*4, c2, k)\n",
    "\n",
    "    def forward(self, x):\n",
    "        return self.conv(torch.cat([x[..., ::2, ::2], x[..., ::2, 1::2], x[..., 1::2, ::2], x[..., 1::2, 1::2]], dim=1))\n"
   ]
  },
  {
   "cell_type": "code",
   "execution_count": 10,
   "metadata": {},
   "outputs": [
    {
     "output_type": "stream",
     "name": "stdout",
     "text": [
      "torch.Size([1, 32, 7, 7])\n"
     ]
    }
   ],
   "source": [
    "img = torch.randn(1, 3, 14, 14)\n",
    "focus = Focus(3, 32)\n",
    "new_img = focus(img)\n",
    "print(new_img.shape)"
   ]
  },
  {
   "cell_type": "code",
   "execution_count": null,
   "metadata": {},
   "outputs": [],
   "source": []
  }
 ]
}