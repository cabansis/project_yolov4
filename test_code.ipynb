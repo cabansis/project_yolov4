{
 "metadata": {
  "language_info": {
   "codemirror_mode": {
    "name": "ipython",
    "version": 3
   },
   "file_extension": ".py",
   "mimetype": "text/x-python",
   "name": "python",
   "nbconvert_exporter": "python",
   "pygments_lexer": "ipython3",
   "version": "3.8.3-final"
  },
  "orig_nbformat": 2,
  "kernelspec": {
   "name": "python38564bitpytorch16conda13d71c4b61b54836aed5f669080cbe2b",
   "display_name": "Python 3.8.5 64-bit ('pytorch1.6': conda)"
  }
 },
 "nbformat": 4,
 "nbformat_minor": 2,
 "cells": [
  {
   "cell_type": "code",
   "execution_count": 1,
   "metadata": {},
   "outputs": [],
   "source": [
    "%matplotlib inline"
   ]
  },
  {
   "cell_type": "code",
   "execution_count": 24,
   "metadata": {},
   "outputs": [],
   "source": [
    "import os\n",
    "\n",
    "import torch \n",
    "from torch.utils.data.dataloader import DataLoader\n",
    "from torch.utils.data.dataset import Dataset\n",
    "import torchvision.transforms as transforms \n",
    "\n",
    "from pycocotools.coco import COCO\n",
    "\n",
    "import numpy as np \n",
    "import cv2\n",
    "\n",
    "from collections import OrderedDict\n",
    "from pprint import pprint"
   ]
  },
  {
   "cell_type": "code",
   "execution_count": 25,
   "metadata": {},
   "outputs": [
    {
     "output_type": "stream",
     "name": "stdout",
     "text": [
      "['ababa', 'bbab']\n"
     ]
    }
   ],
   "source": [
    "s = \"ababa=bbab\"\n",
    "sl = s.split('=')\n",
    "print(sl)"
   ]
  },
  {
   "cell_type": "code",
   "execution_count": 91,
   "metadata": {},
   "outputs": [
    {
     "output_type": "stream",
     "name": "stdout",
     "text": [
      "tensor([0.5000, 0.5000])\ntensor(1.)\n"
     ]
    }
   ],
   "source": [
    "import torch.nn as nn \n",
    "\n",
    "x = torch.tensor([0, 0], dtype=torch.float)\n",
    "y = nn.Softmax()(x)\n",
    "print(y)\n",
    "print(torch.sum(y))"
   ]
  },
  {
   "cell_type": "code",
   "execution_count": 123,
   "metadata": {},
   "outputs": [
    {
     "output_type": "stream",
     "name": "stdout",
     "text": [
      "torch.Size([1, 507, 6])\n"
     ]
    }
   ],
   "source": [
    "x=torch.randn((1, 18, 13, 13))\n",
    "x[0, :, 0, 0]=torch.tensor(range(18), dtype=torch.float)\n",
    "# pprint(x[0,:,0, 0])\n",
    "B, C, H, W = x.shape\n",
    "x = x.view(B, C, H*W)\n",
    "x = x.transpose(1, 2).contiguous()\n",
    "x = x.view(B, H*W*3, C//3)\n",
    "# x = x.view(B, H*W*3, C//3).contiguous()\n",
    "\n",
    "# pprint(x.shape)\n",
    "# x = torch.tensor([0,1,2,3,4,5], dtype=torch.float)\n",
    "# sig = nn.Sigmoid()\n",
    "# pprint(sig(x))\n",
    "pprint(x.shape)"
   ]
  },
  {
   "cell_type": "code",
   "execution_count": 165,
   "metadata": {},
   "outputs": [
    {
     "output_type": "stream",
     "name": "stdout",
     "text": [
      "(507, 2)\narray([[0., 0.],\n       [0., 0.],\n       [0., 0.],\n       [1., 0.],\n       [1., 0.],\n       [1., 0.],\n       [2., 0.],\n       [2., 0.],\n       [2., 0.],\n       [3., 0.],\n       [3., 0.],\n       [3., 0.],\n       [4., 0.],\n       [4., 0.],\n       [4., 0.],\n       [5., 0.],\n       [5., 0.],\n       [5., 0.],\n       [6., 0.],\n       [6., 0.]])\n"
     ]
    }
   ],
   "source": [
    "r_x = np.array(range(13), dtype=np.float)\n",
    "r_y = np.array(range(13), dtype=np.float)\n",
    "offset_x, offset_y = np.meshgrid(r_x, r_y)\n",
    "# offset_x = offset_x[:, :, np.newaxis]\n",
    "offset_x = np.repeat(offset_x[:, :, np.newaxis], 3, 2).flatten()[:, np.newaxis]\n",
    "# offset_x = offset_x.flatten()[:, np.newaxis]\n",
    "# offset_y = offset_y[:, :, np.newaxis]\n",
    "# offset_y = np.repeat(offset_y, 3, 2)\n",
    "# offset_y = offset_y.flatten()[:, np.newaxis]\n",
    "offset_y = np.repeat(offset_y[:, :, np.newaxis], 3, 2).flatten()[:, np.newaxis]\n",
    "\n",
    "offset_xy = np.concatenate((offset_x, offset_y), axis=1)\n",
    "\n",
    "pprint(offset_xy.shape)\n",
    "pprint(offset_xy[:20, :])"
   ]
  },
  {
   "cell_type": "code",
   "execution_count": 163,
   "metadata": {},
   "outputs": [
    {
     "output_type": "stream",
     "name": "stdout",
     "text": [
      "tensor([[40, 40],\n        [44, 66]])\ntensor([[100.0000, 100.0000],\n        [  1.6155,   1.8283]])\n"
     ]
    }
   ],
   "source": [
    "a = torch.randn(2, 2, 85)\n",
    "a[0, :, 44] = 100\n",
    "inx = torch.argmax(a[:, :, 4:], dim=2)\n",
    "clc, ind = torch.max(a[:, :, 4:], dim=2)\n",
    "pprint(inx)\n",
    "pprint(clc)"
   ]
  },
  {
   "cell_type": "code",
   "execution_count": 5,
   "metadata": {},
   "outputs": [
    {
     "output_type": "stream",
     "name": "stdout",
     "text": [
      "tensor([[[ 0.,  1.,  2.,  3.,  4.,  5.,  6.,  7.,  8.,  9., 10., 11., 12., 13.,\n          14., 15., 16., 17., 18.],\n         [ 0.,  1.,  2.,  3.,  4.,  5.,  6.,  7.,  8.,  9., 10., 11., 12., 13.,\n          14., 15., 16., 17., 18.],\n         [ 0.,  1.,  2.,  3.,  4.,  5.,  6.,  7.,  8.,  9., 10., 11., 12., 13.,\n          14., 15., 16., 17., 18.],\n         [ 0.,  1.,  2.,  3.,  4.,  5.,  6.,  7.,  8.,  9., 10., 11., 12., 13.,\n          14., 15., 16., 17., 18.],\n         [ 0.,  1.,  2.,  3.,  4.,  5.,  6.,  7.,  8.,  9., 10., 11., 12., 13.,\n          14., 15., 16., 17., 18.],\n         [ 0.,  1.,  2.,  3.,  4.,  5.,  6.,  7.,  8.,  9., 10., 11., 12., 13.,\n          14., 15., 16., 17., 18.],\n         [ 0.,  1.,  2.,  3.,  4.,  5.,  6.,  7.,  8.,  9., 10., 11., 12., 13.,\n          14., 15., 16., 17., 18.],\n         [ 0.,  1.,  2.,  3.,  4.,  5.,  6.,  7.,  8.,  9., 10., 11., 12., 13.,\n          14., 15., 16., 17., 18.],\n         [ 0.,  1.,  2.,  3.,  4.,  5.,  6.,  7.,  8.,  9., 10., 11., 12., 13.,\n          14., 15., 16., 17., 18.],\n         [ 0.,  1.,  2.,  3.,  4.,  5.,  6.,  7.,  8.,  9., 10., 11., 12., 13.,\n          14., 15., 16., 17., 18.],\n         [ 0.,  1.,  2.,  3.,  4.,  5.,  6.,  7.,  8.,  9., 10., 11., 12., 13.,\n          14., 15., 16., 17., 18.],\n         [ 0.,  1.,  2.,  3.,  4.,  5.,  6.,  7.,  8.,  9., 10., 11., 12., 13.,\n          14., 15., 16., 17., 18.],\n         [ 0.,  1.,  2.,  3.,  4.,  5.,  6.,  7.,  8.,  9., 10., 11., 12., 13.,\n          14., 15., 16., 17., 18.],\n         [ 0.,  1.,  2.,  3.,  4.,  5.,  6.,  7.,  8.,  9., 10., 11., 12., 13.,\n          14., 15., 16., 17., 18.],\n         [ 0.,  1.,  2.,  3.,  4.,  5.,  6.,  7.,  8.,  9., 10., 11., 12., 13.,\n          14., 15., 16., 17., 18.],\n         [ 0.,  1.,  2.,  3.,  4.,  5.,  6.,  7.,  8.,  9., 10., 11., 12., 13.,\n          14., 15., 16., 17., 18.],\n         [ 0.,  1.,  2.,  3.,  4.,  5.,  6.,  7.,  8.,  9., 10., 11., 12., 13.,\n          14., 15., 16., 17., 18.],\n         [ 0.,  1.,  2.,  3.,  4.,  5.,  6.,  7.,  8.,  9., 10., 11., 12., 13.,\n          14., 15., 16., 17., 18.],\n         [ 0.,  1.,  2.,  3.,  4.,  5.,  6.,  7.,  8.,  9., 10., 11., 12., 13.,\n          14., 15., 16., 17., 18.]]])\ntensor([[[ 0.,  0.,  0.,  0.,  0.,  0.,  0.,  0.,  0.,  0.,  0.,  0.,  0.,  0.,\n           0.,  0.,  0.,  0.,  0.],\n         [ 1.,  1.,  1.,  1.,  1.,  1.,  1.,  1.,  1.,  1.,  1.,  1.,  1.,  1.,\n           1.,  1.,  1.,  1.,  1.],\n         [ 2.,  2.,  2.,  2.,  2.,  2.,  2.,  2.,  2.,  2.,  2.,  2.,  2.,  2.,\n           2.,  2.,  2.,  2.,  2.],\n         [ 3.,  3.,  3.,  3.,  3.,  3.,  3.,  3.,  3.,  3.,  3.,  3.,  3.,  3.,\n           3.,  3.,  3.,  3.,  3.],\n         [ 4.,  4.,  4.,  4.,  4.,  4.,  4.,  4.,  4.,  4.,  4.,  4.,  4.,  4.,\n           4.,  4.,  4.,  4.,  4.],\n         [ 5.,  5.,  5.,  5.,  5.,  5.,  5.,  5.,  5.,  5.,  5.,  5.,  5.,  5.,\n           5.,  5.,  5.,  5.,  5.],\n         [ 6.,  6.,  6.,  6.,  6.,  6.,  6.,  6.,  6.,  6.,  6.,  6.,  6.,  6.,\n           6.,  6.,  6.,  6.,  6.],\n         [ 7.,  7.,  7.,  7.,  7.,  7.,  7.,  7.,  7.,  7.,  7.,  7.,  7.,  7.,\n           7.,  7.,  7.,  7.,  7.],\n         [ 8.,  8.,  8.,  8.,  8.,  8.,  8.,  8.,  8.,  8.,  8.,  8.,  8.,  8.,\n           8.,  8.,  8.,  8.,  8.],\n         [ 9.,  9.,  9.,  9.,  9.,  9.,  9.,  9.,  9.,  9.,  9.,  9.,  9.,  9.,\n           9.,  9.,  9.,  9.,  9.],\n         [10., 10., 10., 10., 10., 10., 10., 10., 10., 10., 10., 10., 10., 10.,\n          10., 10., 10., 10., 10.],\n         [11., 11., 11., 11., 11., 11., 11., 11., 11., 11., 11., 11., 11., 11.,\n          11., 11., 11., 11., 11.],\n         [12., 12., 12., 12., 12., 12., 12., 12., 12., 12., 12., 12., 12., 12.,\n          12., 12., 12., 12., 12.],\n         [13., 13., 13., 13., 13., 13., 13., 13., 13., 13., 13., 13., 13., 13.,\n          13., 13., 13., 13., 13.],\n         [14., 14., 14., 14., 14., 14., 14., 14., 14., 14., 14., 14., 14., 14.,\n          14., 14., 14., 14., 14.],\n         [15., 15., 15., 15., 15., 15., 15., 15., 15., 15., 15., 15., 15., 15.,\n          15., 15., 15., 15., 15.],\n         [16., 16., 16., 16., 16., 16., 16., 16., 16., 16., 16., 16., 16., 16.,\n          16., 16., 16., 16., 16.],\n         [17., 17., 17., 17., 17., 17., 17., 17., 17., 17., 17., 17., 17., 17.,\n          17., 17., 17., 17., 17.],\n         [18., 18., 18., 18., 18., 18., 18., 18., 18., 18., 18., 18., 18., 18.,\n          18., 18., 18., 18., 18.]]])\n"
     ]
    }
   ],
   "source": [
    "import torch\n",
    "import numpy as np \n",
    "from pprint import pprint\n",
    "\n",
    "fsize = 19\n",
    "w = torch.arange(fsize, dtype=torch.float).repeat(1, fsize, 1)\n",
    "h = torch.arange(fsize, dtype=torch.float).repeat(1, fsize, 1).permute(0, 2, 1)\n",
    "pprint(w)\n",
    "pprint(h)"
   ]
  },
  {
   "cell_type": "code",
   "execution_count": 13,
   "metadata": {},
   "outputs": [
    {
     "output_type": "stream",
     "name": "stdout",
     "text": [
      "0 tensor(1)\n1 tensor(2)\n2 tensor(3)\n3 tensor(4)\n4 tensor(5)\n5 tensor(6)\n"
     ]
    }
   ],
   "source": [
    "a = torch.tensor([[1.2, 2.2]])\n",
    "b = a.floor()\n",
    "c = a.max(dim=1)\n",
    "# print(a, b)\n",
    "d = torch.tensor([1,2,3,4,5,6])\n",
    "for i, di in enumerate(d):\n",
    "    print(i, di)\n",
    "# np.c_[:2]"
   ]
  },
  {
   "cell_type": "code",
   "execution_count": 56,
   "metadata": {},
   "outputs": [],
   "source": [
    "import torch\n",
    "import torch.nn as nn \n",
    "net = nn.Sequential(\n",
    "    nn.Linear(1000, 500),\n",
    "    nn.ReLU(),\n",
    "    nn.Linear(500, 100),\n",
    "    nn.ReLU(),\n",
    "    nn.Linear(100, 4)\n",
    ")\n",
    "\n",
    "x = torch.randn((1, 1000))\n",
    "y = torch.tensor([1])"
   ]
  },
  {
   "cell_type": "code",
   "execution_count": 57,
   "metadata": {},
   "outputs": [
    {
     "output_type": "stream",
     "name": "stdout",
     "text": [
      "torch.Size([1, 4])\n"
     ]
    }
   ],
   "source": [
    "pred = net(x)\n",
    "\n",
    "print(pred.shape)"
   ]
  },
  {
   "cell_type": "code",
   "execution_count": 58,
   "metadata": {},
   "outputs": [
    {
     "output_type": "stream",
     "name": "stdout",
     "text": [
      "tensor(1.1821)\n"
     ]
    }
   ],
   "source": [
    "cred = nn.CrossEntropyLoss(reduction='sum')\n",
    "loss = cred(y_hat, y)\n",
    "print(loss)"
   ]
  },
  {
   "cell_type": "code",
   "execution_count": 59,
   "metadata": {},
   "outputs": [
    {
     "output_type": "stream",
     "name": "stdout",
     "text": [
      "tensor([[0., 1., 0., 0.]])\n"
     ]
    }
   ],
   "source": [
    "y_f = torch.zeros((1, 4), dtype=torch.float)\n",
    "y_f[0, 1] = 1\n",
    "print(y_f)"
   ]
  },
  {
   "cell_type": "code",
   "execution_count": 76,
   "metadata": {},
   "outputs": [
    {
     "output_type": "stream",
     "name": "stdout",
     "text": [
      "tensor([[-1.5121, -1.1821, -1.4221, -1.4621]])\n"
     ]
    }
   ],
   "source": [
    "y = torch.tensor([1])\n",
    "y_hat = torch.tensor([[0.12, 0.45, 0.21, 0.17]]).to(torch.float)\n",
    "y_hat_l = torch.nn.functional.softmax(y_hat)\n",
    "\n",
    "y_f = torch.zeros((1, 4), dtype=torch.float)\n",
    "y_f[0, 1] = 1\n",
    "\n",
    "print(torch.log(y_hat_l))"
   ]
  },
  {
   "cell_type": "code",
   "execution_count": 84,
   "metadata": {},
   "outputs": [
    {
     "output_type": "stream",
     "name": "stdout",
     "text": [
      "tensor(1.3484)\ntensor(1.1821)\ntensor(1.3484)\n"
     ]
    }
   ],
   "source": [
    "cred_1 = torch.nn.functional.binary_cross_entropy(y_hat, y_f, reduction='sum')\n",
    "print(cred_1)\n",
    "\n",
    "cred_2 = nn.CrossEntropyLoss(reduction='sum')(y_hat, y)\n",
    "print(cred_2)\n",
    "\n",
    "cred_3 = nn.BCELoss(reduction='sum')(y_hat, y_f)\n",
    "print(cred_3)\n"
   ]
  },
  {
   "cell_type": "code",
   "execution_count": 92,
   "metadata": {},
   "outputs": [
    {
     "output_type": "stream",
     "name": "stdout",
     "text": [
      "tensor([[0., 1., 0., 0.]])\ntensor([[1., 0., 1., 1.]])\n"
     ]
    }
   ],
   "source": [
    "y_hat_log = torch.log(y_hat)\n",
    "y_hat_mlog = torch.log(1-y_hat)\n",
    "\n",
    "y_mf = (1 - y_f)\n",
    "print(y_f)\n",
    "print(y_mf)"
   ]
  },
  {
   "cell_type": "code",
   "execution_count": 94,
   "metadata": {},
   "outputs": [
    {
     "output_type": "stream",
     "name": "stdout",
     "text": [
      "tensor(-1.3484)\n"
     ]
    }
   ],
   "source": [
    "loss = y_hat_log * y_f + y_hat_mlog * (1 - y_f)\n",
    "print(loss.sum())"
   ]
  },
  {
   "cell_type": "code",
   "execution_count": 3,
   "metadata": {},
   "outputs": [
    {
     "output_type": "stream",
     "name": "stdout",
     "text": [
      "torch.Size([])\ncpu\n"
     ]
    }
   ],
   "source": [
    "import torch \n",
    "import numpy as np \n",
    "\n",
    "a = torch.tensor([[4,1], [5,6], [0, 0]])\n",
    "b = torch.tensor([[2,6], [3,7]])\n",
    "c = torch.nonzero(torch.sum(a, dim=-1), as_tuple=True)\n",
    "# c = c.unsqueeze(-1)\n",
    "d = torch.empty([])\n",
    "print(d.shape)\n",
    "print(d.device)"
   ]
  },
  {
   "cell_type": "code",
   "execution_count": 11,
   "metadata": {},
   "outputs": [
    {
     "output_type": "stream",
     "name": "stdout",
     "text": [
      "3.141592653589793\n"
     ]
    }
   ],
   "source": [
    "import numpy as np \n",
    "\n",
    "a = np.array([[1, 2], [0, 3]], dtype=np.float)\n",
    "b = np.array([3, 4], dtype=np.float)\n",
    "\n",
    "c = a + b / 2\n",
    "print(np.pi)"
   ]
  },
  {
   "cell_type": "code",
   "execution_count": null,
   "metadata": {},
   "outputs": [],
   "source": []
  }
 ]
}